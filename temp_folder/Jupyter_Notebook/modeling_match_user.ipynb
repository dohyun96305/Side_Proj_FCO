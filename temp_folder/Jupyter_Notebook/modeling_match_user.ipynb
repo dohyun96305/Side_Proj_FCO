{
 "cells": [
  {
   "cell_type": "code",
   "execution_count": null,
   "metadata": {},
   "outputs": [
    {
     "ename": "",
     "evalue": "",
     "output_type": "error",
     "traceback": [
      "\u001b[1;31mFailed to start the Kernel 'side_proj_fco (Python 3.9.20)'. \n",
      "\u001b[1;31mView Jupyter <a href='command:jupyter.viewOutput'>log</a> for further details. listen EFAULT: bad address in system call argument 172.16.74.197:9005"
     ]
    }
   ],
   "source": [
    "import pandas as pd\n",
    "import numpy as np\n",
    "import cupy as cp\n",
    "\n",
    "import time\n",
    "import requests\n",
    "import datetime \n",
    "import logging\n",
    "logging.getLogger('sqlalchemy.engine').setLevel(logging.WARNING)\n",
    "\n",
    "import warnings\n",
    "warnings.filterwarnings(\"ignore\")\n",
    "\n",
    "import sys \n",
    "sys.path.append('C:/Users/dohyu/Desktop/Github/side_proj_fifa')\n",
    "\n",
    "import matplotlib.pyplot as plt \n",
    "import matplotlib as mpl\n",
    "\n",
    "mpl.rc('font', family = 'Malgun Gothic') # 한글 설정 (맑은 고딕)\n",
    "mpl.rc('axes', unicode_minus = False) # 음수 부호 깨지는거 설정\n",
    "\n",
    "import seaborn as sns \n",
    "import scipy.stats as stats\n",
    "\n",
    "import xgboost as xgb\n",
    "\n",
    "from sqlalchemy import create_engine, text\n",
    "\n",
    "from sklearn.model_selection import train_test_split, StratifiedKFold, GridSearchCV\n",
    "\n",
    "from sklearn.preprocessing import MinMaxScaler, LabelEncoder\n",
    "from sklearn.ensemble import RandomForestClassifier\n",
    "from sklearn.metrics import accuracy_score, classification_report\n",
    "from sklearn.metrics import confusion_matrix, ConfusionMatrixDisplay\n",
    "\n",
    "from temp_folder.sub_function import fetch_data, db_conn, position_rating, append_match_user_data\n"
   ]
  },
  {
   "cell_type": "code",
   "execution_count": null,
   "metadata": {},
   "outputs": [
    {
     "ename": "",
     "evalue": "",
     "output_type": "error",
     "traceback": [
      "\u001b[1;31mFailed to start the Kernel 'side_proj_fco (Python 3.9.20)'. \n",
      "\u001b[1;31mView Jupyter <a href='command:jupyter.viewOutput'>log</a> for further details. listen EFAULT: bad address in system call argument 172.16.74.197:9005"
     ]
    }
   ],
   "source": [
    "def db_conn(_username, _password, _host, _port, _database) : \n",
    "    db_engine = sqlalchemy.engine.URL.create(\n",
    "        drivername = \"mysql+pymysql\",\n",
    "        username = _username,\n",
    "        password = _password,\n",
    "        host = _host,\n",
    "        port = _port,\n",
    "        database = _database,\n",
    "    )\n",
    "\n",
    "    return create_engine(db_engine)"
   ]
  },
  {
   "cell_type": "code",
   "execution_count": null,
   "metadata": {},
   "outputs": [],
   "source": [
    "engine = db_conn('root', 'Dhyoon96!', '127.0.0.1', 3306, 'side_proj_fco')\n",
    "df_query = 'SELECT * FROM match_user'\n",
    "\n",
    "# Use the connection to read the SQL query into a DataFrame\n",
    "with engine.connect() as connection:\n",
    "    df1 = pd.read_sql(df_query, con = connection)\n",
    "\n",
    "position_ratings_col = ['attack_position_ratings', \n",
    "                        'middle_position_ratings', \n",
    "                        'defense_position_ratings', \n",
    "                        'goalkeeper_position_ratings']\n",
    "\n",
    "df2 = df1.drop(columns = ['match_id', 'user_ouid', 'user_nickname', \n",
    "                          'match_avg_rating', 'match_total_goal',\n",
    "                          'match_total_dribble', 'match_total_pass_try', 'match_total_pass_suc',\n",
    "                          'match_total_shoot', 'match_total_shoot_eff', \n",
    "                          'match_total_pass_short_suc', \n",
    "                          'match_total_pass_through_suc', \n",
    "                          'match_total_pass_long_suc', \n",
    "                          'match_total_shoot_outpenalty_suc', \n",
    "                          'match_total_shoot_inpenalty_suc']\n",
    "                          + position_ratings_col)"
   ]
  },
  {
   "cell_type": "code",
   "execution_count": null,
   "metadata": {},
   "outputs": [],
   "source": [
    "df2['match_result'] = df2['match_result'].map({'승': 1, '패': 0})\n",
    "\n",
    "X = df2.drop('match_result', axis = 1)\n",
    "y = df2['match_result']\n",
    "\n",
    "# Train-test split\n",
    "X_temp, X_test, y_temp, y_test = train_test_split(X, y, \n",
    "                                                  test_size = 0.2, \n",
    "                                                  random_state = 42, \n",
    "                                                  stratify = y)\n",
    "\n",
    "# Data scaling\n",
    "scaler = MinMaxScaler()\n",
    "X_temp_scaled = scaler.fit_transform(X_temp)\n",
    "X_test_scaled = scaler.transform(X_test)\n",
    "\n",
    "# Convert data to GPU arrays\n",
    "X_temp_scaled_gpu = cp.array(X_temp_scaled)\n",
    "X_test_scaled_gpu = cp.array(X_test_scaled)\n",
    "y_temp_gpu = cp.array(y_temp)\n",
    "y_test_gpu = cp.array(y_test)"
   ]
  },
  {
   "cell_type": "markdown",
   "metadata": {},
   "source": [
    "# XGBoost Classifier with K-fold, GridSearch"
   ]
  },
  {
   "cell_type": "code",
   "execution_count": null,
   "metadata": {},
   "outputs": [],
   "source": [
    "# Define the parameter grid\n",
    "param_grid = {\n",
    "    'n_estimators': [100, 200, 300],\n",
    "    'max_depth': [3, 6, 9],\n",
    "    'learning_rate': [0.01, 0.1, 0.2],\n",
    "    'subsample': [0.8, 0.9, 1],\n",
    "    'colsample_bytree': [0.8, 0.9, 1.0]}\n",
    "\n",
    "# K-Fold 설정\n",
    "kf = StratifiedKFold(n_splits = 5, shuffle = True, random_state = 42)\n",
    "\n",
    "# Define the model with GPU support\n",
    "model = xgb.XGBClassifier(\n",
    "    tree_method = 'gpu_hist',  # Use GPU\n",
    "    eval_metric = \"logloss\",\n",
    "    use_label_encoder = False,  # Disable the deprecated label encoder\n",
    "    random_state = 42)\n",
    "\n",
    "# Hyperparameter tuning using Grid Search\n",
    "grid_search = GridSearchCV(estimator = model, \n",
    "                           param_grid = param_grid, \n",
    "                           cv = kf, \n",
    "                           verbose = 1, \n",
    "                           n_jobs = -1)"
   ]
  },
  {
   "cell_type": "code",
   "execution_count": null,
   "metadata": {},
   "outputs": [],
   "source": [
    "grid_search.fit(X_temp_scaled_gpu.get(), y_temp_gpu.get())\n",
    "\n",
    "print(\"Best parameters found: \", grid_search.best_params_)\n",
    "print(\"Best cross-validation score: \", grid_search.best_score_)"
   ]
  },
  {
   "cell_type": "code",
   "execution_count": null,
   "metadata": {},
   "outputs": [],
   "source": [
    "# Best model from Grid Search\n",
    "best_model = grid_search.best_estimator_\n",
    "\n",
    "# 최종 테스트 데이터 평가\n",
    "y_test_pred = best_model.predict(X_test_scaled_gpu.get())\n",
    "\n",
    "print(\"\\nTest Accuracy:\", accuracy_score(y_test_gpu.get(), y_test_pred))\n",
    "print(\"\\nClassification Report on Test Set:\\n\", classification_report(y_test_gpu.get(), y_test_pred))\n",
    "\n",
    "# 피처 중요도 시각화\n",
    "feature_importance_avg = best_model.feature_importances_\n",
    "sorted_idx = feature_importance_avg.argsort()\n",
    "\n",
    "plt.figure(figsize = (10, 8))\n",
    "plt.barh(X.columns[sorted_idx], feature_importance_avg[sorted_idx])\n",
    "plt.xlabel(\"Average Feature Importance (XGBoost)\")\n",
    "plt.title(\"Feature Importance Across K-Folds\")\n",
    "\n",
    "plt.tick_params(axis = 'y', labelsize = 5)  # Set the label size to small for y-axis\n",
    "plt.tick_params(axis = 'x')  # Set the label size to small for x-axis\n",
    "\n",
    "for i, v in enumerate(feature_importance_avg[sorted_idx]):\n",
    "    plt.text(v + 0.001, i, str(round(v, 2)), color = 'black', va = 'center', fontsize = 'small')\n",
    "\n",
    "plt.show()"
   ]
  },
  {
   "cell_type": "markdown",
   "metadata": {},
   "source": [
    "# RandomForest Classifier"
   ]
  },
  {
   "cell_type": "code",
   "execution_count": null,
   "metadata": {},
   "outputs": [],
   "source": [
    "model = RandomForestClassifier(random_state = 42)\n",
    "\n",
    "# Hyperparameter tuning using Grid Search\n",
    "param_grid = {\n",
    "    'n_estimators': [100, 200, 300],\n",
    "    'max_depth': [None, 10, 20, 30],\n",
    "    'min_samples_split': [2, 5, 10],\n",
    "    'min_samples_leaf': [1, 2, 4],\n",
    "    'bootstrap': [True, False]\n",
    "}\n",
    "\n",
    "grid_search = GridSearchCV(estimator = model, \n",
    "                           param_grid = param_grid, \n",
    "                           cv = kf, \n",
    "                           n_jobs = -1, \n",
    "                           verbose = 2)"
   ]
  },
  {
   "cell_type": "code",
   "execution_count": null,
   "metadata": {},
   "outputs": [],
   "source": [
    "grid_search.fit(X_temp_scaled, y_temp)\n",
    "\n",
    "# Best model from Grid Search\n",
    "best_model = grid_search.best_estimator_\n",
    "\n",
    "# 최종 테스트 데이터 평가\n",
    "y_test_pred = best_model.predict(X_test_scaled)\n",
    "\n",
    "print(\"\\nTest Accuracy:\", accuracy_score(y_test, y_test_pred))\n",
    "print(\"\\nClassification Report on Test Set:\\n\", classification_report(y_test, y_test_pred))"
   ]
  },
  {
   "cell_type": "code",
   "execution_count": null,
   "metadata": {},
   "outputs": [],
   "source": [
    "# 피처 중요도 시각화\n",
    "feature_importance_avg = best_model.feature_importances_\n",
    "sorted_idx = feature_importance_avg.argsort()\n",
    "\n",
    "plt.figure(figsize = (10, 8))\n",
    "plt.barh(X.columns[sorted_idx], feature_importance_avg[sorted_idx])\n",
    "plt.xlabel(\"Average Feature Importance (Random Forest)\")\n",
    "plt.title(\"Feature Importance Across K-Folds\")\n",
    "\n",
    "plt.tick_params(axis = 'y', labelsize = 5)  # Set the label size to small for y-axis\n",
    "plt.tick_params(axis = 'x')  # Set the label size to small for x-axis\n",
    "\n",
    "for i, v in enumerate(feature_importance_avg[sorted_idx]):\n",
    "    plt.text(v + 0.001, i, str(round(v, 2)), color = 'black', va = 'center', fontsize = 'small')\n",
    "\n",
    "plt.show()"
   ]
  },
  {
   "cell_type": "code",
   "execution_count": 16,
   "metadata": {},
   "outputs": [
    {
     "name": "stdout",
     "output_type": "stream",
     "text": [
      "     Actual  Predicted\n",
      "0         0          0\n",
      "1         1          1\n",
      "2         1          1\n",
      "3         1          1\n",
      "4         1          1\n",
      "..      ...        ...\n",
      "436       0          0\n",
      "437       0          0\n",
      "438       1          0\n",
      "439       1          1\n",
      "440       0          0\n",
      "\n",
      "[441 rows x 2 columns]\n"
     ]
    }
   ],
   "source": [
    "# 실제 값과 예측 값을 데이터프레임으로 저장\n",
    "test_results = pd.DataFrame({\n",
    "    'Actual': y_test.values,\n",
    "    'Predicted': y_test_pred\n",
    "})\n",
    "\n",
    "# 결과 확인\n",
    "print(test_results)  # 상위 10개 데이터 출력"
   ]
  },
  {
   "cell_type": "code",
   "execution_count": 18,
   "metadata": {},
   "outputs": [
    {
     "data": {
      "image/png": "[encoded data removed]",
      "text/plain": [
       "<Figure size 640x480 with 2 Axes>"
      ]
     },
     "metadata": {},
     "output_type": "display_data"
    }
   ],
   "source": [
    "from sklearn.metrics import confusion_matrix, ConfusionMatrixDisplay\n",
    "\n",
    "# 혼동 행렬 계산\n",
    "cm = confusion_matrix(y_test, y_test_pred)\n",
    "\n",
    "# 혼동 행렬 시각화\n",
    "disp = ConfusionMatrixDisplay(confusion_matrix=cm, display_labels=best_model.classes_)\n",
    "disp.plot(cmap='Blues', values_format='d')\n",
    "plt.title(\"Confusion Matrix for Test Data\")\n",
    "plt.show()"
   ]
  },
  {
   "cell_type": "code",
   "execution_count": null,
   "metadata": {},
   "outputs": [],
   "source": []
  }
 ],
 "metadata": {
  "kernelspec": {
   "display_name": "side_proj_fco",
   "language": "python",
   "name": "project2"
  },
  "language_info": {
   "name": "python",
   "version": "3.9.20"
  }
 },
 "nbformat": 4,
 "nbformat_minor": 2
}
