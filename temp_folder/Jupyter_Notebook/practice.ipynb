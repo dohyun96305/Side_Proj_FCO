{
 "cells": [
  {
   "cell_type": "code",
   "execution_count": 32,
   "id": "0d9d8215",
   "metadata": {},
   "outputs": [
    {
     "ename": "ModuleNotFoundError",
     "evalue": "No module named 'cupy'",
     "output_type": "error",
     "traceback": [
      "\u001b[1;31m---------------------------------------------------------------------------\u001b[0m",
      "\u001b[1;31mModuleNotFoundError\u001b[0m                       Traceback (most recent call last)",
      "Cell \u001b[1;32mIn[32], line 1\u001b[0m\n\u001b[1;32m----> 1\u001b[0m \u001b[38;5;28;01mimport\u001b[39;00m \u001b[38;5;21;01mcupy\u001b[39;00m \u001b[38;5;28;01mas\u001b[39;00m \u001b[38;5;21;01mcp\u001b[39;00m\n",
      "\u001b[1;31mModuleNotFoundError\u001b[0m: No module named 'cupy'"
     ]
    }
   ],
   "source": [
    "import cupy as cp"
   ]
  },
  {
   "cell_type": "code",
   "execution_count": 1,
   "id": "e3c1a467",
   "metadata": {},
   "outputs": [],
   "source": [
    "import requests\n",
    "import pandas as pd\n",
    "import datetime "
   ]
  },
  {
   "cell_type": "code",
   "execution_count": 2,
   "id": "91ea1f8f",
   "metadata": {},
   "outputs": [],
   "source": [
    "api_key = 'test_b375f597f54e36891fce7c2f065cd1a97f9575f16b3799c740322f3ed9df9bc8efe8d04e6d233bd35cf2fabdeb93fb0d'\n",
    "headers = {'x-nxopen-api-key': api_key}"
   ]
  },
  {
   "cell_type": "markdown",
   "id": "c6443ab1",
   "metadata": {},
   "source": [
    "FCO 매치 종류 및 Division 식별자 확인"
   ]
  },
  {
   "cell_type": "code",
   "execution_count": 3,
   "id": "9e79fc89",
   "metadata": {},
   "outputs": [],
   "source": [
    "match_response = requests.get('https://open.api.nexon.com/static/fconline/meta/matchtype.json', \n",
    "                         headers = headers)\n",
    "\n",
    "match_json = match_response.json()\n",
    "match_df = pd.DataFrame(match_json)\n",
    "match_df = match_df.rename(columns={'matchtype' : 'matchType'}) \n",
    "\n",
    "divison_response = requests.get('https://open.api.nexon.com/static/fconline/meta/division.json', \n",
    "                         headers = headers)\n",
    "\n",
    "division_json = divison_response.json()\n",
    "division_df = pd.DataFrame(division_json)\n",
    "division_df = division_df.rename(columns={'divisionId' : 'division'}) \n",
    "\n",
    "match_dict = match_df.set_index('matchType')['desc'].to_dict()\n",
    "division_dict = division_df.set_index('division')['divisionName'].to_dict()"
   ]
  },
  {
   "cell_type": "code",
   "execution_count": 4,
   "id": "308e9acb",
   "metadata": {},
   "outputs": [
    {
     "data": {
      "text/plain": [
       "{30: '리그 친선',\n",
       " 40: '클래식 1on1',\n",
       " 50: '공식경기',\n",
       " 52: '감독모드',\n",
       " 60: '공식 친선',\n",
       " 204: '볼타 친선',\n",
       " 214: '볼타 공식',\n",
       " 224: '볼타 AI대전',\n",
       " 234: '볼타 커스텀'}"
      ]
     },
     "execution_count": 4,
     "metadata": {},
     "output_type": "execute_result"
    }
   ],
   "source": [
    "match_dict"
   ]
  },
  {
   "cell_type": "code",
   "execution_count": 5,
   "id": "d6582b96",
   "metadata": {},
   "outputs": [
    {
     "data": {
      "text/plain": [
       "{800: '슈퍼챔피언스',\n",
       " 900: '챔피언스',\n",
       " 1000: '슈퍼챌린지',\n",
       " 1100: '챌린지1',\n",
       " 1200: '챌린지2',\n",
       " 1300: '챌린지3',\n",
       " 2000: '월드클래스1',\n",
       " 2100: '월드클래스2',\n",
       " 2200: '월드클래스3',\n",
       " 2300: '프로1',\n",
       " 2400: '프로2',\n",
       " 2500: '프로3',\n",
       " 2600: '세미프로1',\n",
       " 2700: '세미프로2',\n",
       " 2800: '세미프로3',\n",
       " 2900: '유망주1',\n",
       " 3000: '유망주2',\n",
       " 3100: '유망주3'}"
      ]
     },
     "execution_count": 5,
     "metadata": {},
     "output_type": "execute_result"
    }
   ],
   "source": [
    "division_dict"
   ]
  },
  {
   "cell_type": "markdown",
   "id": "ea255856",
   "metadata": {},
   "source": [
    "FCO 유저별 매치 기록 확인}"
   ]
  },
  {
   "cell_type": "code",
   "execution_count": 6,
   "id": "1c6a3228",
   "metadata": {},
   "outputs": [],
   "source": [
    "api_key = 'test_b375f597f54e36891fce7c2f065cd1a97f9575f16b3799c740322f3ed9df9bc8efe8d04e6d233bd35cf2fabdeb93fb0d'\n",
    "headers = {'x-nxopen-api-key': api_key}"
   ]
  },
  {
   "cell_type": "code",
   "execution_count": 7,
   "id": "cd092455",
   "metadata": {},
   "outputs": [],
   "source": [
    "user_metadata_df = pd.DataFrame()\n",
    "user_match_df = pd.DataFrame()"
   ]
  },
  {
   "cell_type": "code",
   "execution_count": 8,
   "id": "157d8472",
   "metadata": {},
   "outputs": [],
   "source": [
    "nickname = '김정현의하수인'"
   ]
  },
  {
   "cell_type": "code",
   "execution_count": 9,
   "id": "a90910e7",
   "metadata": {},
   "outputs": [
    {
     "name": "stdout",
     "output_type": "stream",
     "text": [
      "ouid =  415f3d938ab945a0f69aeecbeb68d488\n"
     ]
    }
   ],
   "source": [
    "users_ouid_params = {'nickname' : nickname}\n",
    "\n",
    "\n",
    "resposne_user_ouid = requests.get('https://open.api.nexon.com/fconline/v1/id?',  \n",
    "                    params = users_ouid_params, headers = headers)\n",
    "\n",
    "user_ouid = resposne_user_ouid.json()\n",
    "print('ouid = ', user_ouid.get('ouid'))\n"
   ]
  },
  {
   "cell_type": "code",
   "execution_count": 10,
   "id": "6d8042cc",
   "metadata": {},
   "outputs": [],
   "source": [
    "user_params = {'ouid' : '415f3d938ab945a0f69aeecbeb68d488', 'matchtype' : '40'}\n",
    "\n",
    "\n",
    "response_user_match = requests.get('https://open.api.nexon.com/fconline/v1/user/match?',  \n",
    "                    params = user_params, headers = headers)\n",
    "\n",
    "new_user_info = response_user_match.json()\n",
    "new_user_info_df = pd.DataFrame([new_user_info])"
   ]
  },
  {
   "cell_type": "code",
   "execution_count": 11,
   "id": "399ccc19",
   "metadata": {},
   "outputs": [
    {
     "data": {
      "text/plain": [
       "['673a0a53ca98089a4d566e5c',\n",
       " '673a07e06c583a338765b01d',\n",
       " '673a055f4a2132424708d9e0',\n",
       " '6739fab347aa2458b3d80839',\n",
       " '6739f829b5f708536fb366fe',\n",
       " '6739f5d82951cc61982efcf5',\n",
       " '6739f20aeb3b064b0d94ff65',\n",
       " '6739ef6ce87465c25e3f84f8',\n",
       " '6739e6fda1cd2db9f4d6bbf8',\n",
       " '6739e2cd16d3c7ce7266661b',\n",
       " '6730b98e34021b471c94bba9',\n",
       " '6730b73a125d54a82d836951',\n",
       " '6730b4eb5ca892ede1e32ebb',\n",
       " '6730b28c4b97846f96b689ab',\n",
       " '6730b0340d7c37140bffdea4',\n",
       " '6730a7b2b0c7c011a718c29a',\n",
       " '6730a54b8ddcbc0844351e92',\n",
       " '6730a2277c4ab47bfa33dd89',\n",
       " '67309fdb4484b93010af47e5',\n",
       " '67309d7c313753d963778a03',\n",
       " '6727777dbc8d657b63ab0e20',\n",
       " '672774fe706e2750fac4c823',\n",
       " '672772c95efc91d997542532',\n",
       " '67277064ef8c931e12485dac',\n",
       " '67276de797394e4b30b3b929',\n",
       " '67276baa167ce01c22d0018b',\n",
       " '672767c21761a37cc237457f',\n",
       " '67276546ed95485d7dd94700',\n",
       " '672762df0cee6b48b165ff1a',\n",
       " '6727608fa92b4c7375a867e8',\n",
       " '67275dfb4c6c227cfde719e4']"
      ]
     },
     "execution_count": 11,
     "metadata": {},
     "output_type": "execute_result"
    }
   ],
   "source": [
    "new_user_info"
   ]
  },
  {
   "cell_type": "markdown",
   "id": "64f7b4af",
   "metadata": {},
   "source": [
    "FCO 유저별 기본정보 확인"
   ]
  },
  {
   "cell_type": "code",
   "execution_count": 12,
   "id": "2dcb318f",
   "metadata": {},
   "outputs": [],
   "source": [
    "def get_user_metadata(ouid : str, user_metadata_df : pd.DataFrame) -> pd.DataFrame : \n",
    "    '''\n",
    "    Input\n",
    "        nickname (str)    : Nickname want to search in FCO gaem\n",
    "        user_metadata_df (pd.DataFrame)    : user_metadata_df, To update user_metadata_df with result of searching nickname\n",
    "\n",
    "    Output \n",
    "        user_metadata_df (pd.DataFrame)    : user_metadata_df, After updating user_metadata_df with result of searching nickname \n",
    "            * [ouid, nickname, level]\n",
    "    '''\n",
    "\n",
    "    user_params = {'ouid' : ouid}\n",
    "\n",
    "    response_user_data = requests.get('https://open.api.nexon.com/fconline/v1//user/basic?',   # Get user_metadata\n",
    "                    params = user_params, headers = headers)\n",
    "    print(f\"Status Code for user_data: {response_user_data.status_code}\") \n",
    "    \n",
    "    try : \n",
    "        new_user_info = response_user_data.json()\n",
    "        \n",
    "        if 'error' in new_user_info:\n",
    "            return user_metadata_df\n",
    "        \n",
    "        else :     \n",
    "            new_user_info_df = pd.DataFrame([new_user_info])\n",
    "\n",
    "            if user_metadata_df.empty or ouid not in user_metadata_df['ouid'].values:\n",
    "                user_metadata_df = pd.concat([user_metadata_df, new_user_info_df], ignore_index=True)\n",
    "\n",
    "    except requests.exceptions.JSONDecodeError:    # If the response is not in valid JSON format. \n",
    "        print(\"Response is not a valid.\")\n",
    "        \n",
    "    except requests.exceptions.RequestException as e:    # If the response is invalid responses,\n",
    "        print(f\"Request failed: {e}\")\n",
    "\n",
    "    return user_metadata_df"
   ]
  },
  {
   "cell_type": "markdown",
   "id": "45166430",
   "metadata": {},
   "source": [
    "FCO 유저별 매치별 최고 등급 확인"
   ]
  },
  {
   "cell_type": "code",
   "execution_count": 13,
   "id": "49e5ff45",
   "metadata": {},
   "outputs": [],
   "source": [
    "def get_user_match_division_grade(ouid : str, user_match_grade_df : pd.DataFrame) -> pd.DataFrame : \n",
    "    '''\n",
    "    Input\n",
    "        nickname (str)    : Nickname want to search in FCO gaem\n",
    "        user_match_grade_df (pd.DataFrame)    : user_match_grade_df, To update user_match_grade_df with result of searching nickname\n",
    "        \n",
    "    Output \n",
    "        user_match_grade_df_up (pd.DataFrame)    : user_match_grade_df, After updating user_match_grade_df with result of searching nickname \n",
    "            * [ouid, matchTyle, division, achievementDate]\n",
    "    '''\n",
    "    \n",
    "    user_params = {'ouid' : ouid}\n",
    "    \n",
    "    response_user_match_grade = requests.get('https://open.api.nexon.com/fconline/v1//user/maxdivision?',     # Get user_match\n",
    "                                             params = user_params, headers = headers)\n",
    "    print(f\"Status Code for user_match: {response_user_match_grade.status_code}\") \n",
    "    \n",
    "    try : \n",
    "        new_user_match_grade = response_user_match_grade.json()\n",
    "        \n",
    "        if isinstance(new_user_match_grade, dict) and 'error' in new_user_match_grade:\n",
    "            return user_match_grade_df\n",
    "        \n",
    "        if not new_user_match_grade:\n",
    "            print(\"Response JSON is empty\")\n",
    "            return user_match_grade_df\n",
    "\n",
    "        new_user_match_grade_df = pd.DataFrame(new_user_match_grade)\n",
    "\n",
    "        new_user_match_grade_df['ouid'] = ouid\n",
    "        new_user_match_grade_df['division'] = new_user_match_grade_df['division'].astype(int).map(division_dict)\n",
    "        new_user_match_grade_df['matchType'] = new_user_match_grade_df['matchType'].astype(int).map(match_dict) \n",
    "        new_user_match_grade_df['achievementDate'] = pd.to_datetime(new_user_match_grade_df['achievementDate'])\n",
    "        \n",
    "        if user_match_grade_df.empty or ouid not in user_match_grade_df['ouid'].values : \n",
    "            user_match_grade_df_up = pd.concat([user_match_grade_df, new_user_match_grade_df], ignore_index=True)\n",
    "\n",
    "        else:\n",
    "            user_match_grade_df = user_match_grade_df[user_match_grade_df['ouid'] != ouid]\n",
    "            user_match_grade_df_up = pd.concat([user_match_grade_df, new_user_match_grade_df], ignore_index=True)\n",
    "            \n",
    "    except requests.exceptions.JSONDecodeError:    # If the response is not in valid JSON format. \n",
    "        print(\"Response is not a valid.\")\n",
    "        \n",
    "    except requests.exceptions.RequestException as e:    # If the response is invalid responses,\n",
    "        print(f\"Request failed: {e}\")\n",
    "        \n",
    "    return user_match_grade_df_up"
   ]
  },
  {
   "cell_type": "markdown",
   "id": "f402858a",
   "metadata": {},
   "source": [
    "FCO 유저 닉네임 통한 DF 최신화"
   ]
  },
  {
   "cell_type": "code",
   "execution_count": 14,
   "id": "beee672b",
   "metadata": {},
   "outputs": [],
   "source": [
    "def get_user_metadata_match(nickname : str, \n",
    "                            user_metadata_df : pd.DataFrame, \n",
    "                            user_match_df : pd.DataFrame) -> pd.DataFrame : \n",
    "    '''\n",
    "    Input\n",
    "        nickname (str)    : Nickname want to search in FCO gaem\n",
    "        user_metadata_df (pd.DataFrame)    : User_metadata_df, To update user_metadata with result of searching nickname\n",
    "        user_match_df (pd.DataFrame)    : User_metadata_df, To update user_match_df with result of searching nickname\n",
    "\n",
    "        \n",
    "    Output \n",
    "        user_metadata_df_up (pd.DataFrame)    : user_metadata_df, After updating user_metadata with result of searching nickname \n",
    "            * [ouid, nickname, level]\n",
    "        user_match_df_up (pd.DataFrame)    : user_match_df, After updating user_match_df with result of searching nickname \n",
    "            * [ouid, matchTyle, division, achievementDate]\n",
    "    '''\n",
    "    \n",
    "    user_params = {'nickname' : nickname}\n",
    "\n",
    "    response_ouid = requests.get('https://open.api.nexon.com/fconline/v1/id?',   # Get user_ouid\n",
    "                            params = user_params, headers = headers)\n",
    "    print(f\"Status Code for user_id: {response_ouid.status_code}\") \n",
    "\n",
    "    try:\n",
    "        new_user_json = response_ouid.json()\n",
    "        new_user_ouid = new_user_json.get('ouid')\n",
    "        \n",
    "        user_metadata_df_up = get_user_metadata(new_user_ouid, user_metadata_df)\n",
    "        user_match_df_up = get_user_match_division_grade(new_user_ouid, user_match_df)\n",
    "        \n",
    "    except requests.exceptions.JSONDecodeError:    # If the response is not in valid JSON format. \n",
    "        print(\"Response is not a valid.\")\n",
    "        \n",
    "    except requests.exceptions.RequestException as e:    # If the response is invalid responses,\n",
    "        print(f\"Request failed: {e}\")\n",
    "        \n",
    "    return user_metadata_df_up, user_match_df_up"
   ]
  },
  {
   "cell_type": "code",
   "execution_count": 15,
   "id": "9e0d6454",
   "metadata": {},
   "outputs": [
    {
     "name": "stdout",
     "output_type": "stream",
     "text": [
      "Status Code for user_id: 200\n",
      "Status Code for user_data: 200\n",
      "Status Code for user_match: 200\n"
     ]
    }
   ],
   "source": [
    "user_metadata_df, user_match_df = get_user_metadata_match('김정현의하수인', user_metadata_df, user_match_df)"
   ]
  },
  {
   "cell_type": "code",
   "execution_count": 16,
   "id": "b793fc78",
   "metadata": {},
   "outputs": [
    {
     "data": {
      "text/html": [
       "<div>\n",
       "<style scoped>\n",
       "    .dataframe tbody tr th:only-of-type {\n",
       "        vertical-align: middle;\n",
       "    }\n",
       "\n",
       "    .dataframe tbody tr th {\n",
       "        vertical-align: top;\n",
       "    }\n",
       "\n",
       "    .dataframe thead th {\n",
       "        text-align: right;\n",
       "    }\n",
       "</style>\n",
       "<table border=\"1\" class=\"dataframe\">\n",
       "  <thead>\n",
       "    <tr style=\"text-align: right;\">\n",
       "      <th></th>\n",
       "      <th>ouid</th>\n",
       "      <th>nickname</th>\n",
       "      <th>level</th>\n",
       "    </tr>\n",
       "  </thead>\n",
       "  <tbody>\n",
       "    <tr>\n",
       "      <th>0</th>\n",
       "      <td>415f3d938ab945a0f69aeecbeb68d488</td>\n",
       "      <td>김정현의하수인</td>\n",
       "      <td>428</td>\n",
       "    </tr>\n",
       "  </tbody>\n",
       "</table>\n",
       "</div>"
      ],
      "text/plain": [
       "                               ouid nickname  level\n",
       "0  415f3d938ab945a0f69aeecbeb68d488  김정현의하수인    428"
      ]
     },
     "execution_count": 16,
     "metadata": {},
     "output_type": "execute_result"
    }
   ],
   "source": [
    "user_metadata_df"
   ]
  },
  {
   "cell_type": "code",
   "execution_count": 17,
   "id": "7abc6b87",
   "metadata": {},
   "outputs": [
    {
     "data": {
      "text/html": [
       "<div>\n",
       "<style scoped>\n",
       "    .dataframe tbody tr th:only-of-type {\n",
       "        vertical-align: middle;\n",
       "    }\n",
       "\n",
       "    .dataframe tbody tr th {\n",
       "        vertical-align: top;\n",
       "    }\n",
       "\n",
       "    .dataframe thead th {\n",
       "        text-align: right;\n",
       "    }\n",
       "</style>\n",
       "<table border=\"1\" class=\"dataframe\">\n",
       "  <thead>\n",
       "    <tr style=\"text-align: right;\">\n",
       "      <th></th>\n",
       "      <th>matchType</th>\n",
       "      <th>division</th>\n",
       "      <th>achievementDate</th>\n",
       "      <th>ouid</th>\n",
       "    </tr>\n",
       "  </thead>\n",
       "  <tbody>\n",
       "    <tr>\n",
       "      <th>0</th>\n",
       "      <td>공식경기</td>\n",
       "      <td>월드클래스3</td>\n",
       "      <td>2023-03-01 01:23:17</td>\n",
       "      <td>415f3d938ab945a0f69aeecbeb68d488</td>\n",
       "    </tr>\n",
       "    <tr>\n",
       "      <th>1</th>\n",
       "      <td>감독모드</td>\n",
       "      <td>챌린지3</td>\n",
       "      <td>2024-03-27 13:49:26</td>\n",
       "      <td>415f3d938ab945a0f69aeecbeb68d488</td>\n",
       "    </tr>\n",
       "    <tr>\n",
       "      <th>2</th>\n",
       "      <td>볼타 공식</td>\n",
       "      <td>세미프로1</td>\n",
       "      <td>2020-08-16 09:59:37</td>\n",
       "      <td>415f3d938ab945a0f69aeecbeb68d488</td>\n",
       "    </tr>\n",
       "  </tbody>\n",
       "</table>\n",
       "</div>"
      ],
      "text/plain": [
       "  matchType division     achievementDate                              ouid\n",
       "0      공식경기   월드클래스3 2023-03-01 01:23:17  415f3d938ab945a0f69aeecbeb68d488\n",
       "1      감독모드     챌린지3 2024-03-27 13:49:26  415f3d938ab945a0f69aeecbeb68d488\n",
       "2     볼타 공식    세미프로1 2020-08-16 09:59:37  415f3d938ab945a0f69aeecbeb68d488"
      ]
     },
     "execution_count": 17,
     "metadata": {},
     "output_type": "execute_result"
    }
   ],
   "source": [
    "user_match_df"
   ]
  },
  {
   "cell_type": "code",
   "execution_count": null,
   "id": "4238b81b",
   "metadata": {},
   "outputs": [],
   "source": []
  },
  {
   "cell_type": "code",
   "execution_count": null,
   "id": "8d632c17",
   "metadata": {},
   "outputs": [],
   "source": []
  },
  {
   "cell_type": "code",
   "execution_count": null,
   "id": "c0532459",
   "metadata": {},
   "outputs": [],
   "source": []
  },
  {
   "cell_type": "code",
   "execution_count": 1,
   "id": "c0f5f9e7",
   "metadata": {},
   "outputs": [
    {
     "name": "stdout",
     "output_type": "stream",
     "text": [
      "86 49\n"
     ]
    }
   ],
   "source": [
    "# goalTime 변환을 위해 주어진 공식을 적용한 변환 로직을 작성합니다.\n",
    "goal_time = 16779725\n",
    "half_time_interval = 2**24\n",
    "\n",
    "if 0 <= goal_time < half_time_interval:\n",
    "    # 전반전\n",
    "    converted_time = goal_time\n",
    "elif half_time_interval <= goal_time < 2 * half_time_interval:\n",
    "    # 후반전\n",
    "    converted_time = goal_time - half_time_interval + 45 * 60\n",
    "elif 2 * half_time_interval <= goal_time < 3 * half_time_interval:\n",
    "    # 연장 전반전\n",
    "    converted_time = goal_time - 2 * half_time_interval + 90 * 60\n",
    "elif 3 * half_time_interval <= goal_time < 4 * half_time_interval:\n",
    "    # 연장 후반전\n",
    "    converted_time = goal_time - 3 * half_time_interval + 105 * 60\n",
    "elif 4 * half_time_interval <= goal_time < 5 * half_time_interval:\n",
    "    # 승부차기\n",
    "    converted_time = goal_time - 4 * half_time_interval + 120 * 60\n",
    "\n",
    "print(converted_time//60, converted_time%60)"
   ]
  },
  {
   "cell_type": "code",
   "execution_count": 2,
   "id": "6ec20ad2",
   "metadata": {},
   "outputs": [],
   "source": [
    "match_user = {'ouid': 'c57dbb7c393f3cb5f26160aaf8b8a187', 'nickname': 'trashJM', 'matchDetail': {'seasonId': 202412, 'matchResult': '패', 'matchEndType': 2, 'systemPause': 1, 'foul': 0, 'injury': 0, 'redCards': 0, 'yellowCards': 0, 'dribble': 0, 'cornerKick': 0, 'possession': 50, 'offsideCount': 0, 'averageRating': 3.66667, 'controller': 'keyboard'}, 'shoot': {'shootTotal': 0, 'effectiveShootTotal': 0, 'shootOutScore': 0, 'goalTotal': 0, 'goalTotalDisplay': 0, 'ownGoal': 0, 'shootHeading': 0, 'goalHeading': 0, 'shootFreekick': 0, 'goalFreekick': 0, 'shootInPenalty': 0, 'goalInPenalty': 0, 'shootOutPenalty': 0, 'goalOutPenalty': 0, 'shootPenaltyKick': 0, 'goalPenaltyKick': 0}, 'shootDetail': [], 'pass': {'passTry': 1, 'passSuccess': 0, 'shortPassTry': 0, 'shortPassSuccess': 0, 'longPassTry': 0, 'longPassSuccess': 0, 'bouncingLobPassTry': 0, 'bouncingLobPassSuccess': 0, 'drivenGroundPassTry': 0, 'drivenGroundPassSuccess': 0, 'throughPassTry': 0, 'throughPassSuccess': 0, 'lobbedThroughPassTry': 0, 'lobbedThroughPassSuccess': 0}, 'defence': {'blockTry': 0, 'blockSuccess': 0, 'tackleTry': 0, 'tackleSuccess': 0}, 'player': [{'spId': 291220697, 'spPosition': 18, 'spGrade': 5, 'status': {'shoot': 0, 'effectiveShoot': 0, 'assist': 0, 'goal': 0, 'dribble': 0, 'intercept': 0, 'defending': 0, 'passTry': 0, 'passSuccess': 0, 'dribbleTry': 0, 'dribbleSuccess': 0, 'ballPossesionTry': 0, 'ballPossesionSuccess': 0, 'aerialTry': 0, 'aerialSuccess': 0, 'blockTry': 0, 'block': 0, 'tackleTry': 0, 'tackle': 0, 'yellowCards': 0, 'redCards': 0, 'spRating': 6.0}}, {'spId': 291205988, 'spPosition': 7, 'spGrade': 6, 'status': {'shoot': 0, 'effectiveShoot': 0, 'assist': 0, 'goal': 0, 'dribble': 0, 'intercept': 0, 'defending': 0, 'passTry': 0, 'passSuccess': 0, 'dribbleTry': 0, 'dribbleSuccess': 0, 'ballPossesionTry': 0, 'ballPossesionSuccess': 0, 'aerialTry': 0, 'aerialSuccess': 0, 'blockTry': 0, 'block': 0, 'tackleTry': 0, 'tackle': 0, 'yellowCards': 0, 'redCards': 0, 'spRating': 6.0}}, {'spId': 289013743, 'spPosition': 15, 'spGrade': 6, 'status': {'shoot': 0, 'effectiveShoot': 0, 'assist': 0, 'goal': 0, 'dribble': 0, 'intercept': 0, 'defending': 0, 'passTry': 0, 'passSuccess': 0, 'dribbleTry': 0, 'dribbleSuccess': 0, 'ballPossesionTry': 0, 'ballPossesionSuccess': 0, 'aerialTry': 0, 'aerialSuccess': 0, 'blockTry': 0, 'block': 0, 'tackleTry': 0, 'tackle': 0, 'yellowCards': 0, 'redCards': 0, 'spRating': 6.0}}, {'spId': 291231281, 'spPosition': 3, 'spGrade': 5, 'status': {'shoot': 0, 'effectiveShoot': 0, 'assist': 0, 'goal': 0, 'dribble': 0, 'intercept': 0, 'defending': 0, 'passTry': 0, 'passSuccess': 0, 'dribbleTry': 0, 'dribbleSuccess': 0, 'ballPossesionTry': 0, 'ballPossesionSuccess': 0, 'aerialTry': 0, 'aerialSuccess': 0, 'blockTry': 0, 'block': 0, 'tackleTry': 0, 'tackle': 0, 'yellowCards': 0, 'redCards': 0, 'spRating': 6.0}}, {'spId': 300212218, 'spPosition': 28, 'spGrade': 0, 'status': {'shoot': 0, 'effectiveShoot': 0, 'assist': 0, 'goal': 0, 'dribble': 0, 'intercept': 0, 'defending': 0, 'passTry': 0, 'passSuccess': 0, 'dribbleTry': 0, 'dribbleSuccess': 0, 'ballPossesionTry': 0, 'ballPossesionSuccess': 0, 'aerialTry': 0, 'aerialSuccess': 0, 'blockTry': 0, 'block': 0, 'tackleTry': 0, 'tackle': 0, 'yellowCards': 0, 'redCards': 0, 'spRating': 0.0}}, {'spId': 300264645, 'spPosition': 28, 'spGrade': 0, 'status': {'shoot': 0, 'effectiveShoot': 0, 'assist': 0, 'goal': 0, 'dribble': 0, 'intercept': 0, 'defending': 0, 'passTry': 0, 'passSuccess': 0, 'dribbleTry': 0, 'dribbleSuccess': 0, 'ballPossesionTry': 0, 'ballPossesionSuccess': 0, 'aerialTry': 0, 'aerialSuccess': 0, 'blockTry': 0, 'block': 0, 'tackleTry': 0, 'tackle': 0, 'yellowCards': 0, 'redCards': 0, 'spRating': 0.0}}, {'spId': 300237692, 'spPosition': 28, 'spGrade': 0, 'status': {'shoot': 0, 'effectiveShoot': 0, 'assist': 0, 'goal': 0, 'dribble': 0, 'intercept': 0, 'defending': 0, 'passTry': 0, 'passSuccess': 0, 'dribbleTry': 0, 'dribbleSuccess': 0, 'ballPossesionTry': 0, 'ballPossesionSuccess': 0, 'aerialTry': 0, 'aerialSuccess': 0, 'blockTry': 0, 'block': 0, 'tackleTry': 0, 'tackle': 0, 'yellowCards': 0, 'redCards': 0, 'spRating': 0.0}}, {'spId': 300231866, 'spPosition': 28, 'spGrade': 0, 'status': {'shoot': 0, 'effectiveShoot': 0, 'assist': 0, 'goal': 0, 'dribble': 0, 'intercept': 0, 'defending': 0, 'passTry': 0, 'passSuccess': 0, 'dribbleTry': 0, 'dribbleSuccess': 0, 'ballPossesionTry': 0, 'ballPossesionSuccess': 0, 'aerialTry': 0, 'aerialSuccess': 0, 'blockTry': 0, 'block': 0, 'tackleTry': 0, 'tackle': 0, 'yellowCards': 0, 'redCards': 0, 'spRating': 0.0}}, {'spId': 825203574, 'spPosition': 6, 'spGrade': 5, 'status': {'shoot': 0, 'effectiveShoot': 0, 'assist': 0, 'goal': 0, 'dribble': 0, 'intercept': 0, 'defending': 0, 'passTry': 0, 'passSuccess': 0, 'dribbleTry': 0, 'dribbleSuccess': 0, 'ballPossesionTry': 0, 'ballPossesionSuccess': 0, 'aerialTry': 0, 'aerialSuccess': 0, 'blockTry': 0, 'block': 0, 'tackleTry': 0, 'tackle': 0, 'yellowCards': 0, 'redCards': 0, 'spRating': 6.0}}, {'spId': 289005471, 'spPosition': 13, 'spGrade': 6, 'status': {'shoot': 0, 'effectiveShoot': 0, 'assist': 0, 'goal': 0, 'dribble': 0, 'intercept': 0, 'defending': 0, 'passTry': 0, 'passSuccess': 0, 'dribbleTry': 0, 'dribbleSuccess': 0, 'ballPossesionTry': 0, 'ballPossesionSuccess': 0, 'aerialTry': 0, 'aerialSuccess': 0, 'blockTry': 0, 'block': 0, 'tackleTry': 0, 'tackle': 0, 'yellowCards': 0, 'redCards': 0, 'spRating': 6.0}}, {'spId': 802007289, 'spPosition': 4, 'spGrade': 5, 'status': {'shoot': 0, 'effectiveShoot': 0, 'assist': 0, 'goal': 0, 'dribble': 0, 'intercept': 0, 'defending': 0, 'passTry': 0, 'passSuccess': 0, 'dribbleTry': 0, 'dribbleSuccess': 0, 'ballPossesionTry': 0, 'ballPossesionSuccess': 0, 'aerialTry': 0, 'aerialSuccess': 0, 'blockTry': 0, 'block': 0, 'tackleTry': 0, 'tackle': 0, 'yellowCards': 0, 'redCards': 0, 'spRating': 6.0}}, {'spId': 300218667, 'spPosition': 28, 'spGrade': 0, 'status': {'shoot': 0, 'effectiveShoot': 0, 'assist': 0, 'goal': 0, 'dribble': 0, 'intercept': 0, 'defending': 0, 'passTry': 0, 'passSuccess': 0, 'dribbleTry': 0, 'dribbleSuccess': 0, 'ballPossesionTry': 0, 'ballPossesionSuccess': 0, 'aerialTry': 0, 'aerialSuccess': 0, 'blockTry': 0, 'block': 0, 'tackleTry': 0, 'tackle': 0, 'yellowCards': 0, 'redCards': 0, 'spRating': 0.0}}, {'spId': 825206517, 'spPosition': 19, 'spGrade': 5, 'status': {'shoot': 0, 'effectiveShoot': 0, 'assist': 0, 'goal': 0, 'dribble': 0, 'intercept': 0, 'defending': 0, 'passTry': 0, 'passSuccess': 0, 'dribbleTry': 0, 'dribbleSuccess': 0, 'ballPossesionTry': 0, 'ballPossesionSuccess': 0, 'aerialTry': 0, 'aerialSuccess': 0, 'blockTry': 0, 'block': 0, 'tackleTry': 0, 'tackle': 0, 'yellowCards': 0, 'redCards': 0, 'spRating': 6.0}}, {'spId': 283246669, 'spPosition': 17, 'spGrade': 7, 'status': {'shoot': 0, 'effectiveShoot': 0, 'assist': 0, 'goal': 0, 'dribble': 0, 'intercept': 0, 'defending': 0, 'passTry': 0, 'passSuccess': 0, 'dribbleTry': 0, 'dribbleSuccess': 0, 'ballPossesionTry': 0, 'ballPossesionSuccess': 0, 'aerialTry': 0, 'aerialSuccess': 0, 'blockTry': 0, 'block': 0, 'tackleTry': 0, 'tackle': 0, 'yellowCards': 0, 'redCards': 0, 'spRating': 6.0}}, {'spId': 503233934, 'spPosition': 0, 'spGrade': 5, 'status': {'shoot': 0, 'effectiveShoot': 0, 'assist': 0, 'goal': 0, 'dribble': 0, 'intercept': 0, 'defending': 0, 'passTry': 0, 'passSuccess': 0, 'dribbleTry': 0, 'dribbleSuccess': 0, 'ballPossesionTry': 0, 'ballPossesionSuccess': 0, 'aerialTry': 0, 'aerialSuccess': 0, 'blockTry': 0, 'block': 0, 'tackleTry': 0, 'tackle': 0, 'yellowCards': 0, 'redCards': 0, 'spRating': 6.0}}, {'spId': 300224081, 'spPosition': 28, 'spGrade': 0, 'status': {'shoot': 0, 'effectiveShoot': 0, 'assist': 0, 'goal': 0, 'dribble': 0, 'intercept': 0, 'defending': 0, 'passTry': 0, 'passSuccess': 0, 'dribbleTry': 0, 'dribbleSuccess': 0, 'ballPossesionTry': 0, 'ballPossesionSuccess': 0, 'aerialTry': 0, 'aerialSuccess': 0, 'blockTry': 0, 'block': 0, 'tackleTry': 0, 'tackle': 0, 'yellowCards': 0, 'redCards': 0, 'spRating': 0.0}}, {'spId': 802202126, 'spPosition': 25, 'spGrade': 5, 'status': {'shoot': 0, 'effectiveShoot': 0, 'assist': 0, 'goal': 0, 'dribble': 0, 'intercept': 0, 'defending': 0, 'passTry': 1, 'passSuccess': 0, 'dribbleTry': 0, 'dribbleSuccess': 0, 'ballPossesionTry': 0, 'ballPossesionSuccess': 0, 'aerialTry': 0, 'aerialSuccess': 0, 'blockTry': 0, 'block': 0, 'tackleTry': 0, 'tackle': 0, 'yellowCards': 0, 'redCards': 0, 'spRating': 6.0}}, {'spId': 300188377, 'spPosition': 28, 'spGrade': 0, 'status': {'shoot': 0, 'effectiveShoot': 0, 'assist': 0, 'goal': 0, 'dribble': 0, 'intercept': 0, 'defending': 0, 'passTry': 0, 'passSuccess': 0, 'dribbleTry': 0, 'dribbleSuccess': 0, 'ballPossesionTry': 0, 'ballPossesionSuccess': 0, 'aerialTry': 0, 'aerialSuccess': 0, 'blockTry': 0, 'block': 0, 'tackleTry': 0, 'tackle': 0, 'yellowCards': 0, 'redCards': 0, 'spRating': 0.0}}]}"
   ]
  },
  {
   "cell_type": "code",
   "execution_count": 3,
   "id": "f20f7bf4",
   "metadata": {},
   "outputs": [],
   "source": [
    "def position_rating(match_user_) :  \n",
    "    attack_position = [i for i in range(9, 20)]\n",
    "    middle_position = [i for i in range(20, 28)]\n",
    "    defense_position = [i for i in range(1, 9)]\n",
    "    goalkeeper_position = [0]\n",
    "    \n",
    "    attack_rating = []\n",
    "    middle_rating = []\n",
    "    defense_rating = []\n",
    "    goalkeeper_rating = []\n",
    "    \n",
    "    for player in match_user_['player'] : \n",
    "        if player['spPosition'] == 28 :                             # 후보선수 제외\n",
    "            continue\n",
    "\n",
    "        elif player['spPosition'] in attack_position :              # 공격 평점\n",
    "            attack_rating.append(player['status']['spRating'])\n",
    "\n",
    "        elif player['spPosition'] in middle_position :              # 미들 평점\n",
    "            middle_rating.append(player['status']['spRating'])\n",
    "\n",
    "        elif player['spPosition'] in defense_position :             # 수비 평점\n",
    "            defense_rating.append(player['status']['spRating'])\n",
    "\n",
    "        else :                                                      # 골키퍼 평점 \n",
    "            goalkeeper_rating.append(player['status']['spRating'])\n",
    "\n",
    "    return round(np.mean(attack_rating), 2), round(np.mean(middle_rating), 2), round(np.mean(defense_rating), 2), round(np.mean(goalkeeper_rating), 2)"
   ]
  },
  {
   "cell_type": "code",
   "execution_count": null,
   "id": "9df7dfff",
   "metadata": {},
   "outputs": [],
   "source": []
  }
 ],
 "metadata": {
  "kernelspec": {
   "display_name": "side_proj_fco",
   "language": "python",
   "name": "project2"
  },
  "language_info": {
   "codemirror_mode": {
    "name": "ipython",
    "version": 3
   },
   "file_extension": ".py",
   "mimetype": "text/x-python",
   "name": "python",
   "nbconvert_exporter": "python",
   "pygments_lexer": "ipython3",
   "version": "3.9.20"
  }
 },
 "nbformat": 4,
 "nbformat_minor": 5
}
